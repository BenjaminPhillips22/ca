{
 "cells": [
  {
   "cell_type": "markdown",
   "metadata": {},
   "source": [
    "\n",
    "## Create Cellular Automaton\n",
    "Ben Phillips ([website](https://benjaminphillips22.github.io))\n",
    "\n",
    "At each step, one colour is given the opportunity to expand. The less frequent the colour is on the board, the more likely it will be selected to expand."
   ]
  },
  {
   "cell_type": "markdown",
   "metadata": {},
   "source": [
    "load packages"
   ]
  },
  {
   "cell_type": "code",
   "execution_count": 28,
   "metadata": {},
   "outputs": [],
   "source": [
    "import numpy as np\n",
    "import imageio\n",
    "\n",
    "import matplotlib.pyplot as plt\n",
    "from matplotlib import colors\n",
    "plt.style.use(style='seaborn')\n",
    "%matplotlib inline"
   ]
  },
  {
   "cell_type": "markdown",
   "metadata": {},
   "source": [
    "Function to stochastically update neighbours"
   ]
  },
  {
   "cell_type": "code",
   "execution_count": 23,
   "metadata": {
    "collapsed": true
   },
   "outputs": [],
   "source": [
    "def update_neighbours(grid, i, j, turn, prob=0.25):\n",
    "\n",
    "    # indices that can change\n",
    "    up = [np.mod(i-1, grid.shape[1]), j]\n",
    "    down = [np.mod(i+1, grid.shape[1]), j]\n",
    "    left = [i, np.mod(j-1, grid.shape[0])]\n",
    "    right = [i, np.mod(j+1, grid.shape[0])]\n",
    "    \n",
    "    def change(pos, turn, prob):\n",
    "        if np.random.sample() < prob:\n",
    "            grid[pos[0]][pos[1]] = turn\n",
    "    \n",
    "    change(up, turn, prob)\n",
    "    change(down, turn, prob)\n",
    "    change(left, turn, prob)\n",
    "    change(right, turn, prob)"
   ]
  },
  {
   "cell_type": "markdown",
   "metadata": {},
   "source": [
    "Settings"
   ]
  },
  {
   "cell_type": "code",
   "execution_count": 125,
   "metadata": {},
   "outputs": [],
   "source": [
    "rows = 10\n",
    "cols = 10\n",
    "scenes = 200\n",
    "grid_dev_num = 0\n",
    "\n",
    "# create discrete colormap\n",
    "cmap = colors.ListedColormap(['black', 'lightcoral', 'skyblue'])\n",
    "bounds = [-1, 0.1, 1.1, 2.1]\n",
    "norm = colors.BoundaryNorm(bounds, cmap.N)"
   ]
  },
  {
   "cell_type": "markdown",
   "metadata": {},
   "source": [
    "Insert one of each colour and watch them compete"
   ]
  },
  {
   "cell_type": "code",
   "execution_count": 102,
   "metadata": {},
   "outputs": [
    {
     "data": {
      "image/png": "[encoded data removed]",
      "text/plain": [
       "<matplotlib.figure.Figure at 0x1e21ac5c6a0>"
      ]
     },
     "metadata": {},
     "output_type": "display_data"
    }
   ],
   "source": [
    "# set seed\n",
    "np.random.seed(44)\n",
    "\n",
    "#grid space\n",
    "grid = np.full(shape=[rows, cols], fill_value=0)\n",
    "\n",
    "# insert randomly one of each colour\n",
    "x1, x2 = np.random.choice(range(rows), size=2, replace=False)\n",
    "y1, y2 = np.random.choice(range(cols), size=2, replace=False)\n",
    "\n",
    "# start with two filled cells\n",
    "grid[x1, y1] = 1\n",
    "grid[x2, y2] = 2\n",
    "\n",
    "# red:blue split ratio. \n",
    "# Less than 0.5 means more blues are present\n",
    "# More than 0.5 means more reds are present\n",
    "split_ratio = np.sum(grid==1)/(np.sum(grid==1)+np.sum(grid==2))\n",
    "\n",
    "# create new plot\n",
    "fig, ax = plt.subplots(figsize=(5, 5))\n",
    "my_images = []\n",
    "\n",
    "for s in range(scenes):\n",
    "    \n",
    "    x = np.random.sample()  # decide who gets to update\n",
    "    \n",
    "    if x < split_ratio:\n",
    "        turn = 2  # blues turn\n",
    "    else:\n",
    "        turn = 1  # reds turn\n",
    "\n",
    "    map_turn_tuple = np.where(grid==turn)  # update grid\n",
    "    \n",
    "    for i, j in zip(map_turn_tuple[0], map_turn_tuple[1]):\n",
    "        update_neighbours(grid, i, j, turn)\n",
    "\n",
    "    ax.imshow(grid, cmap=cmap, norm=norm)\n",
    "    ax.grid(False)\n",
    "    ax.axis('off')\n",
    "    fig.canvas.draw()       # draw the canvas, cache the renderer\n",
    "    image = np.frombuffer(fig.canvas.tostring_rgb(), dtype='uint8')\n",
    "    image  = image.reshape(fig.canvas.get_width_height()[::-1] + (3,))\n",
    "\n",
    "    my_images.append(image)\n",
    "    \n",
    "    #update split_ratio\n",
    "    split_ratio = np.sum(grid==1)/(np.sum(grid==1)+np.sum(grid==2))\n",
    "    \n",
    "# save\n",
    "imageio.mimsave('./ca_1.gif', my_images, fps=10)\n"
   ]
  },
  {
   "cell_type": "markdown",
   "metadata": {},
   "source": [
    "Start with an already filled in grid"
   ]
  },
  {
   "cell_type": "code",
   "execution_count": 126,
   "metadata": {},
   "outputs": [
    {
     "data": {
      "image/png": "[encoded data removed]",
      "text/plain": [
       "<matplotlib.figure.Figure at 0x1e21b40efd0>"
      ]
     },
     "metadata": {},
     "output_type": "display_data"
    }
   ],
   "source": [
    "# set seed\n",
    "np.random.seed(44)\n",
    "\n",
    "#grid space\n",
    "grid = np.full(shape=[rows, cols], fill_value=0)\n",
    "\n",
    "# insert colours\n",
    "for x in range(rows):\n",
    "    for y in range(cols):\n",
    "        grid[x, y] = np.random.choice([1, 2])\n",
    "\n",
    "# red:blue split ratio. \n",
    "# Less than 0.5 means more blues are present\n",
    "# More than 0.5 means more reds are present\n",
    "split_ratio = np.sum(grid==1)/(np.sum(grid==1)+np.sum(grid==2))\n",
    "\n",
    "# create new plot\n",
    "fig, ax = plt.subplots(figsize=(5, 5))\n",
    "my_images = []\n",
    "\n",
    "for s in range(scenes):\n",
    "    \n",
    "    x = np.random.sample()  # decide who gets to update\n",
    "    \n",
    "    if x < split_ratio:\n",
    "        turn = 2  # blues turn\n",
    "    else:\n",
    "        turn = 1  # reds turn\n",
    "\n",
    "    map_turn_tuple = np.where(grid==turn)  # update grid\n",
    "    \n",
    "    for i, j in zip(map_turn_tuple[0], map_turn_tuple[1]):\n",
    "        update_neighbours(grid, i, j, turn)\n",
    "\n",
    "    ax.imshow(grid, cmap=cmap, norm=norm)\n",
    "    ax.grid(False)\n",
    "    ax.axis('off')\n",
    "    fig.canvas.draw()       # draw the canvas, cache the renderer\n",
    "    image = np.frombuffer(fig.canvas.tostring_rgb(), dtype='uint8')\n",
    "    image  = image.reshape(fig.canvas.get_width_height()[::-1] + (3,))\n",
    "\n",
    "    my_images.append(image)\n",
    "    \n",
    "    #update split_ratio\n",
    "    split_ratio = np.sum(grid==1)/(np.sum(grid==1)+np.sum(grid==2))\n",
    "    \n",
    "# save\n",
    "imageio.mimsave('./ca_2.gif', my_images, fps=10)\n"
   ]
  },
  {
   "cell_type": "code",
   "execution_count": null,
   "metadata": {
    "collapsed": true
   },
   "outputs": [],
   "source": []
  }
 ],
 "metadata": {
  "kernelspec": {
   "display_name": "Python 3",
   "language": "python",
   "name": "python3"
  },
  "language_info": {
   "codemirror_mode": {
    "name": "ipython",
    "version": 3
   },
   "file_extension": ".py",
   "mimetype": "text/x-python",
   "name": "python",
   "nbconvert_exporter": "python",
   "pygments_lexer": "ipython3",
   "version": "3.6.1"
  }
 },
 "nbformat": 4,
 "nbformat_minor": 2
}
